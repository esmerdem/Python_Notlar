{
 "cells": [
  {
   "cell_type": "code",
   "execution_count": 1,
   "metadata": {},
   "outputs": [
    {
     "data": {
      "text/plain": [
       "'\\nçarpma = * bölme = /\\n'"
      ]
     },
     "execution_count": 1,
     "metadata": {},
     "output_type": "execute_result"
    }
   ],
   "source": [
    "\"\"\"\n",
    "çarpma = * bölme = /\n",
    "\"\"\""
   ]
  },
  {
   "cell_type": "code",
   "execution_count": 2,
   "metadata": {},
   "outputs": [
    {
     "name": "stdout",
     "output_type": "stream",
     "text": [
      "4\n"
     ]
    }
   ],
   "source": [
    "# değişkenleri değiştirmenin pratik yolu\n",
    "a = 5\n",
    "b = 4\n",
    "a,b = b,a\n",
    "print(a)"
   ]
  },
  {
   "cell_type": "code",
   "execution_count": 3,
   "metadata": {},
   "outputs": [
    {
     "name": "stdout",
     "output_type": "stream",
     "text": [
      "6\n"
     ]
    }
   ],
   "source": [
    "# değişken değeri artırma pratik yolu \n",
    "a = 5\n",
    "a += 1\n",
    "print(a)"
   ]
  },
  {
   "cell_type": "code",
   "execution_count": 4,
   "metadata": {},
   "outputs": [
    {
     "name": "stdout",
     "output_type": "stream",
     "text": [
      "3\n"
     ]
    }
   ],
   "source": [
    "\"\"\"\n",
    "tam sayı bölmesi operatörü = //\n",
    "bu operatör bölme işlemindeki bölümü verir\n",
    "\"\"\"\n",
    "a = 13\n",
    "b = 4\n",
    "print(a // b)"
   ]
  },
  {
   "cell_type": "code",
   "execution_count": 5,
   "metadata": {},
   "outputs": [
    {
     "name": "stdout",
     "output_type": "stream",
     "text": [
      "1\n"
     ]
    }
   ],
   "source": [
    "\"\"\"\n",
    "kalan bulma = %\n",
    "\"\"\"\n",
    "a = 13\n",
    "b = 4\n",
    "print(a % b)"
   ]
  },
  {
   "cell_type": "code",
   "execution_count": 6,
   "metadata": {},
   "outputs": [
    {
     "name": "stdout",
     "output_type": "stream",
     "text": [
      "16\n",
      "8.0\n"
     ]
    }
   ],
   "source": [
    "\"\"\"\n",
    "üs bulma = **\n",
    "\"\"\"\n",
    "print(2 ** 4)\n",
    "print(64 ** 0.5)"
   ]
  },
  {
   "cell_type": "code",
   "execution_count": 7,
   "metadata": {},
   "outputs": [
    {
     "name": "stdout",
     "output_type": "stream",
     "text": [
      "oç\n",
      "oroç\n",
      "ororoç\n"
     ]
    }
   ],
   "source": [
    "# PYTHONDA STRİNG OLUŞTURMAK İÇİN TEK TIRNAK, ÇİFT TIRNAK VEYA ÜÇ TIRNAK KULLABİLİRİZ\n",
    "print(\"oç\")\n",
    "print('oroç')\n",
    "print(\"\"\"ororoç\"\"\")"
   ]
  },
  {
   "cell_type": "code",
   "execution_count": 8,
   "metadata": {},
   "outputs": [
    {
     "name": "stdout",
     "output_type": "stream",
     "text": [
      "A\n",
      "t\n"
     ]
    }
   ],
   "source": [
    "#string'in içinden indeksleme yapılabiliyor (indeksleme 0 dan başlar unutmayasın)\n",
    "\n",
    "a = \"Ahmet\"\n",
    "print(a[0])\n",
    "print(a[4])"
   ]
  },
  {
   "cell_type": "code",
   "execution_count": 9,
   "metadata": {},
   "outputs": [
    {
     "name": "stdout",
     "output_type": "stream",
     "text": [
      "h\n"
     ]
    }
   ],
   "source": [
    "# sondan da indeksleme yapılabilir\n",
    "a = \"Ahmet\"\n",
    "print(a[-4])"
   ]
  },
  {
   "cell_type": "code",
   "execution_count": 10,
   "metadata": {},
   "outputs": [
    {
     "name": "stdout",
     "output_type": "stream",
     "text": [
      "Hayat bir \n",
      "t bir podyum!\n",
      "Hayat bir podyum!\n",
      "Hayat bir podyum\n",
      "Hytbrpdu!\n",
      "tip\n",
      "!muydop rib tayaH\n"
     ]
    }
   ],
   "source": [
    "# string parçalamak için indeksleme yapmamız gerekiyor\n",
    "\n",
    "a = \"Hayat bir podyum!\"\n",
    "a[4:7]\n",
    "\n",
    "# üstteki örnek 5.stringden başla 7'ye kadar (7 dahil değil) yazdır demek. 5 olmasının sebebi 0 da var.\n",
    "\n",
    "# Başlangıç değeri belirtilmemişse en baştan başlayarak alır.\n",
    "print(a[:10])\n",
    " \n",
    "# Bitiş değeri belirtilmemişse en sonuna kadar alır.\n",
    "print(a[4:])\n",
    " \n",
    "# İki değer de belirtilmemişse tüm stringi al.\n",
    "print(a[:])\n",
    " \n",
    "#Son karaktere kadar al.\n",
    "print(a[:-1])\n",
    " \n",
    "# Baştan sona 2 değer atlaya atlaya stringi al.\n",
    "print(a[::2])\n",
    " \n",
    "# 4.indeksten 12'nci indekse 3'er atlayarak stringi al.\n",
    "print(a[4:12:3])\n",
    " \n",
    "# Baştan sona -1 atlayarak stringi al. (String'i ters çevirme)\n",
    "print(a[::-1])"
   ]
  },
  {
   "cell_type": "code",
   "execution_count": 11,
   "metadata": {},
   "outputs": [
    {
     "name": "stdout",
     "output_type": "stream",
     "text": [
      "1111\n"
     ]
    }
   ],
   "source": [
    "a =\"123123123123\"\n",
    "print(a[::3])"
   ]
  },
  {
   "cell_type": "code",
   "execution_count": 12,
   "metadata": {},
   "outputs": [
    {
     "name": "stdout",
     "output_type": "stream",
     "text": [
      "5\n"
     ]
    }
   ],
   "source": [
    "#string uzunluğu için len() fonksiyonu kullanılır.\n",
    "\n",
    "a = \"Selam\"\n",
    "print(len(a))"
   ]
  },
  {
   "cell_type": "code",
   "execution_count": 13,
   "metadata": {},
   "outputs": [],
   "source": [
    "#stringin içinden karakter değiştirilemiyor.\n"
   ]
  },
  {
   "cell_type": "code",
   "execution_count": 14,
   "metadata": {},
   "outputs": [
    {
     "name": "stdout",
     "output_type": "stream",
     "text": [
      "O benim\n"
     ]
    }
   ],
   "source": [
    "# stringler toplanabilir\n",
    "a = \"O\"\n",
    "b = \" benim\"\n",
    "print(a+b)"
   ]
  },
  {
   "cell_type": "code",
   "execution_count": 15,
   "metadata": {},
   "outputs": [
    {
     "name": "stdout",
     "output_type": "stream",
     "text": [
      "oçoçoçoçoç\n"
     ]
    }
   ],
   "source": [
    "# string ile sayı çarpılabilir \n",
    "a =\"oç\"\n",
    "print(a * 5)"
   ]
  },
  {
   "cell_type": "code",
   "execution_count": 1,
   "metadata": {},
   "outputs": [
    {
     "name": "stdout",
     "output_type": "stream",
     "text": [
      "51.0\n",
      "75\n"
     ]
    }
   ],
   "source": [
    "# tam sayılar ondalıklı sayıya, ondalıklı sayılar tam sayıya dönüşebilir\n",
    "a = 51\n",
    "print(float(a))\n",
    "b = 75.6\n",
    "print(int(b))"
   ]
  },
  {
   "cell_type": "code",
   "execution_count": 17,
   "metadata": {},
   "outputs": [
    {
     "name": "stdout",
     "output_type": "stream",
     "text": [
      "7\n"
     ]
    }
   ],
   "source": [
    "# sayılar stringe çevrilebilir\n",
    "a  = 2134141\n",
    "b = str(a)\n",
    "print(len(b))\n"
   ]
  },
  {
   "cell_type": "code",
   "execution_count": 18,
   "metadata": {},
   "outputs": [
    {
     "name": "stdout",
     "output_type": "stream",
     "text": [
      "129041471129041471129041471\n",
      "387124413\n",
      "129041471.0\n"
     ]
    }
   ],
   "source": [
    "#stringleri tam veya ondalıklı sayıya çevirme\n",
    "\n",
    "a = \"129041471\"\n",
    "print(a * 3)\n",
    "b = int(a)\n",
    "print(b * 3)\n",
    "c = float(a)\n",
    "print(c)"
   ]
  },
  {
   "cell_type": "code",
   "execution_count": 19,
   "metadata": {},
   "outputs": [
    {
     "name": "stdout",
     "output_type": "stream",
     "text": [
      "Ahmet\n",
      "Mehmet\n",
      "Ali\n",
      "Ahmet\tMehmet\tAli\n"
     ]
    }
   ],
   "source": [
    "\"\"\"\n",
    "stringlerde \\n ve \\t karakterleri\n",
    "eğer string'in içine \\n yazarsan bir satır boşluk bırakır.\n",
    "eğer string'in içine \\t yazarsan bir tab boşluk bırakır\n",
    "\"\"\"\n",
    "print(\"Ahmet\\nMehmet\\nAli\")\n",
    "print(\"Ahmet\\tMehmet\\tAli\")"
   ]
  },
  {
   "cell_type": "code",
   "execution_count": 20,
   "metadata": {},
   "outputs": [
    {
     "name": "stdout",
     "output_type": "stream",
     "text": [
      "<class 'str'>\n"
     ]
    }
   ],
   "source": [
    "#type fonksiyonu içine gönderilen değerin tipini söyler\n",
    "a = \"Osasdada\"\n",
    "print(type(a))"
   ]
  },
  {
   "cell_type": "code",
   "execution_count": 21,
   "metadata": {},
   "outputs": [
    {
     "name": "stdout",
     "output_type": "stream",
     "text": [
      "3 4 5 6\n",
      "3.4.5.6\n",
      "05/10/2018\n"
     ]
    }
   ],
   "source": [
    "\"\"\"\n",
    "sep parametresi\n",
    "print() fonksiyonunda kullanılabilen sep parametresi yazdırdığımız değerlerin arasına istediğimiz karakterlerin\n",
    "yerleştirilmesini sağlar. Eğer bu parametreyi kullanmazsak değerlerin arasına varsayılan olarak boşluk yerleştirildiğini\n",
    "biliyoruz.\n",
    "\"\"\"\n",
    "print(3,4,5,6)\n",
    "print(3,4,5,6,sep = \".\")\n",
    "print(\"05\",\"10\",\"2018\", sep = \"/\")"
   ]
  },
  {
   "cell_type": "code",
   "execution_count": 22,
   "metadata": {},
   "outputs": [
    {
     "name": "stdout",
     "output_type": "stream",
     "text": [
      "E r d e m\n",
      "E/r/d/e/m\n",
      "E\n",
      "r\n",
      "d\n",
      "e\n",
      "m\n"
     ]
    }
   ],
   "source": [
    "\"\"\"\n",
    "Yıldızlı parametre\n",
    "Eğer bir stringin başına * işareti koyup, print fonksiyonuna gönderirsek bu string karakterlerine ayrılacak ve\n",
    "her bir karakter ayrı birer string olarak davranılarak ekrana basılacaktır.\n",
    "\"\"\"\n",
    "print(*\"Erdem\")\n",
    "print(*\"Erdem\", sep = \"/\")\n",
    "print(*\"Erdem\", sep = \"\\n\")"
   ]
  },
  {
   "cell_type": "code",
   "execution_count": 23,
   "metadata": {},
   "outputs": [
    {
     "name": "stdout",
     "output_type": "stream",
     "text": [
      "1 2 3\n",
      "5'nın 6 ile toplamı = 11\n"
     ]
    }
   ],
   "source": [
    "# formatlama {}\n",
    "print(\"{} {} {}\".format(1,2,3))\n",
    "a = 5\n",
    "b = 6\n",
    "print(\"{}'nın {} ile toplamı = {}\".format(a,b,a+b))"
   ]
  },
  {
   "cell_type": "code",
   "execution_count": 24,
   "metadata": {},
   "outputs": [
    {
     "name": "stdout",
     "output_type": "stream",
     "text": [
      "[1, 2, 'oç', 3, 4]\n"
     ]
    }
   ],
   "source": [
    "\"\"\"\n",
    "Liste...  Tıpkı stringler gibi ,indekslenirler,parçalanırlar ve üzerinde değişik işlemler yapabildiğimiz metodlar bulunur.\n",
    "Stringler konusundan bildiğimiz kadarıyla stringler değiştirilemez bir veri tipidir. \n",
    "Ancak, listelerimiz değiştirilebilir bir veritipidir.\n",
    "\"\"\"\n",
    "liste = [1,2,\"oç\",3,4]\n",
    "print(liste)"
   ]
  },
  {
   "cell_type": "code",
   "execution_count": 25,
   "metadata": {},
   "outputs": [
    {
     "name": "stdout",
     "output_type": "stream",
     "text": [
      "[]\n",
      "[]\n"
     ]
    }
   ],
   "source": [
    "#boş liste yapıom\n",
    "bos_liste = []\n",
    "print(bos_liste)\n",
    "print(list())"
   ]
  },
  {
   "cell_type": "code",
   "execution_count": 26,
   "metadata": {},
   "outputs": [
    {
     "name": "stdout",
     "output_type": "stream",
     "text": [
      "5\n"
     ]
    }
   ],
   "source": [
    "#len listelerde de kullanılabilir.\n",
    "liste = [1,2,\"oç\",3,4]\n",
    "print(len(liste))"
   ]
  },
  {
   "cell_type": "code",
   "execution_count": 27,
   "metadata": {},
   "outputs": [
    {
     "name": "stdout",
     "output_type": "stream",
     "text": [
      "['M', 'e', 'r', 'h', 'a', 'b', 'a']\n"
     ]
    }
   ],
   "source": [
    "#stringler list() fonksiyonuyla listeye çevrilebilir\n",
    "a = \"Merhaba\"\n",
    "b = list(a)\n",
    "print(b)"
   ]
  },
  {
   "cell_type": "code",
   "execution_count": 28,
   "metadata": {},
   "outputs": [
    {
     "name": "stdout",
     "output_type": "stream",
     "text": [
      "[2, 'oç', 3]\n",
      "1\n",
      "[4, 3, 'oç', 2, 1]\n"
     ]
    }
   ],
   "source": [
    "#listeler indekslenip parçalanabilir\n",
    "liste = [1,2,\"oç\",3,4]\n",
    "print(liste[1:4])\n",
    "print(liste[0])\n",
    "print(liste[::-1])"
   ]
  },
  {
   "cell_type": "code",
   "execution_count": 29,
   "metadata": {},
   "outputs": [
    {
     "name": "stdout",
     "output_type": "stream",
     "text": [
      "[0, 1, 2, 3, 4, 5, 6, 7, 8, 9]\n"
     ]
    }
   ],
   "source": [
    "\"\"\"\n",
    "listeler farkı listeyle toplanabilir.\n",
    "listelere sonradan ekleme çıkarma yapılabilir.\n",
    "listeler tam sayıyla çarpılabilir.\n",
    "\"\"\"\n",
    "liste = [0,1,2,3,4]\n",
    "liste1 = [5,6,7,8,9]\n",
    "print(liste + liste1)\n"
   ]
  },
  {
   "cell_type": "code",
   "execution_count": 30,
   "metadata": {},
   "outputs": [
    {
     "name": "stdout",
     "output_type": "stream",
     "text": [
      "[0, 1, 2, 3, 4, 'Murat']\n"
     ]
    }
   ],
   "source": [
    "liste = [0,1,2,3,4] + [\"Murat\"]\n",
    "print(liste)"
   ]
  },
  {
   "cell_type": "code",
   "execution_count": 31,
   "metadata": {},
   "outputs": [
    {
     "name": "stdout",
     "output_type": "stream",
     "text": [
      "[0, 1, 2, 3, 4, 5]\n"
     ]
    }
   ],
   "source": [
    "#append metodu, verdiğimiz değeri listeye eklememizi sağlar\n",
    "\n",
    "liste = [0,1,2,3,4]\n",
    "liste.append(5)\n",
    "print(liste)"
   ]
  },
  {
   "cell_type": "code",
   "execution_count": 32,
   "metadata": {},
   "outputs": [
    {
     "name": "stdout",
     "output_type": "stream",
     "text": [
      "[0, 1, 2, 3]\n",
      "[1, 2, 3]\n"
     ]
    }
   ],
   "source": [
    "#pop metodu, değer vermezsek listedeki son değeri, değer verirsek verdiğimiz değeri listeden çıkartmaya yarar.\n",
    "liste = [0,1,2,3,4]\n",
    "liste.pop()\n",
    "print(liste)\n",
    "liste.pop(0)\n",
    "print(liste)"
   ]
  },
  {
   "cell_type": "code",
   "execution_count": 33,
   "metadata": {},
   "outputs": [
    {
     "name": "stdout",
     "output_type": "stream",
     "text": [
      "[0, 2, 5, 31, 541684, 965431]\n",
      "['Mehmet', 'Ali', 'Ahmet']\n"
     ]
    }
   ],
   "source": [
    "#sort metodu, listelerde sıralama yapmamızı sağlar. stringleri sıralama emri verirsek alfabeye göre sıralar\n",
    "liste = [5,31,965431,2,541684,0]\n",
    "liste.sort()\n",
    "print(liste)\n",
    "liste2 =[\"Ahmet\",\"Mehmet\",\"Ali\"]\n",
    "liste2.sort(reverse = True)\n",
    "print(liste2)"
   ]
  },
  {
   "cell_type": "code",
   "execution_count": 34,
   "metadata": {},
   "outputs": [
    {
     "name": "stdout",
     "output_type": "stream",
     "text": [
      "[[1, 2, 3, 4], [5, 6], [7, 8, 9]]\n",
      "[1, 2, 3, 4]\n",
      "7\n"
     ]
    }
   ],
   "source": [
    "#içiçe liste\n",
    "a = [1,2,3,4]\n",
    "b = [5,6]\n",
    "c = [7,8,9]\n",
    "liste = [a,b,c]\n",
    "print(liste)\n",
    "print(liste[0])\n",
    "print(liste[2][0])"
   ]
  },
  {
   "cell_type": "code",
   "execution_count": 35,
   "metadata": {},
   "outputs": [
    {
     "name": "stdout",
     "output_type": "stream",
     "text": [
      "(1, 2, 3, 4, 5)\n",
      "(1, 2)\n"
     ]
    }
   ],
   "source": [
    "#Demetler veya İngilizce ismiyle tuplelar listelere oldukça benzer ancak farkları demetlerin değiştirilemez oluşudur. \n",
    "demet = (1,2,3,4,5)\n",
    "print(demet)\n",
    "print(demet[0:2])"
   ]
  },
  {
   "cell_type": "code",
   "execution_count": 36,
   "metadata": {},
   "outputs": [
    {
     "name": "stdout",
     "output_type": "stream",
     "text": [
      "4\n"
     ]
    }
   ],
   "source": [
    "#index metodu, değerin nerde olduğunu sorgulayabiliriz\n",
    "demet = (\"seni\",\"anan\",\"benim\",\"için\",\"sıçmış\")\n",
    "print(demet.index(\"sıçmış\"))"
   ]
  },
  {
   "cell_type": "code",
   "execution_count": 37,
   "metadata": {},
   "outputs": [
    {
     "name": "stdout",
     "output_type": "stream",
     "text": [
      "4\n"
     ]
    }
   ],
   "source": [
    "# count metoduyla içine verdiğimiz değerin demette kaç defa geçtiğini bulabiliriz.\n",
    "demet = (0,10,0,1,10,15,10,10,12054,0)\n",
    "print(demet.count(10))\n"
   ]
  },
  {
   "cell_type": "code",
   "execution_count": 38,
   "metadata": {},
   "outputs": [
    {
     "name": "stdout",
     "output_type": "stream",
     "text": [
      "{1: 'Bir', 2: 'İki', 3: 'Üç'}\n"
     ]
    }
   ],
   "source": [
    "#sözlük\n",
    "sözlük = {1:\"Bir\",2:\"İki\",3:\"Üç\"}\n",
    "print(sözlük)"
   ]
  },
  {
   "cell_type": "code",
   "execution_count": 39,
   "metadata": {},
   "outputs": [
    {
     "name": "stdout",
     "output_type": "stream",
     "text": [
      "Bir\n"
     ]
    }
   ],
   "source": [
    "#sözlüklerde bir değeri elde etmek için indeksleri değil anahtarları kullanacağız\n",
    "sözlük = {1:\"Bir\",2:\"İki\",3:\"Üç\"}\n",
    "print(sözlük[1])"
   ]
  },
  {
   "cell_type": "code",
   "execution_count": 40,
   "metadata": {},
   "outputs": [
    {
     "name": "stdout",
     "output_type": "stream",
     "text": [
      "4\n"
     ]
    }
   ],
   "source": [
    "sözlük1 = {1:\"Bir\",2:\"İki\",3:\"Üç\", \"liste\": [[1,2],[3,4]]}\n",
    "print(sözlük1[\"liste\"][1][1])"
   ]
  },
  {
   "cell_type": "code",
   "execution_count": 41,
   "metadata": {},
   "outputs": [
    {
     "name": "stdout",
     "output_type": "stream",
     "text": [
      "{'Erdem': 3, 'Ecmel': 2, 'Erdinç': 1, 'Mehmet': 4}\n"
     ]
    }
   ],
   "source": [
    "#sözlüğe anahtar ve değer eklenebilir. aynı zamanda sözlükler sıralı olmayan ir veritipidir.\n",
    "sözlük = {\"Erdem\":3,\"Ecmel\":2,\"Erdinç\":1}\n",
    "sözlük[\"Mehmet\"] = 4\n",
    "print(sözlük)"
   ]
  },
  {
   "cell_type": "code",
   "execution_count": 2,
   "metadata": {},
   "outputs": [
    {
     "name": "stdout",
     "output_type": "stream",
     "text": [
      "icindeyim\n"
     ]
    }
   ],
   "source": [
    "#Tıpkı listeler gibi, iç içe sözlükler de oluşturulabilir.\n",
    "sözlük = {1:\"Bir\",2:\"İki\",3:\"Üç\",4:{5:\"icindeyim\"}}\n",
    "print(sözlük[4][5])"
   ]
  },
  {
   "cell_type": "code",
   "execution_count": 43,
   "metadata": {},
   "outputs": [
    {
     "name": "stdout",
     "output_type": "stream",
     "text": [
      "dict_values(['Bir', 'İki', 'Üç'])\n",
      "dict_items([(1, 'Bir'), (2, 'İki'), (3, 'Üç')])\n",
      "dict_keys([1, 2, 3])\n"
     ]
    }
   ],
   "source": [
    "sözlük = {1:\"Bir\",2:\"İki\",3:\"Üç\"}\n",
    "print(sözlük.values())\n",
    "print(sözlük.items())\n",
    "print(sözlük.keys())"
   ]
  },
  {
   "cell_type": "code",
   "execution_count": 46,
   "metadata": {},
   "outputs": [
    {
     "name": "stdout",
     "output_type": "stream",
     "text": [
      "A:1\n",
      "A: 1\n"
     ]
    }
   ],
   "source": [
    "a =input(\"A:\")\n",
    "print(\"A:\",a)"
   ]
  },
  {
   "cell_type": "code",
   "execution_count": 48,
   "metadata": {},
   "outputs": [
    {
     "name": "stdout",
     "output_type": "stream",
     "text": [
      "Bir sayı gir:12\n",
      "Girilen sayı x 3: 36\n"
     ]
    }
   ],
   "source": [
    "#inputa yazdığımız değer string olduğu için bu değeri integer ya da float değere çevirmemiz gerekir\n",
    "a = int(input(\"Bir sayı gir:\"))\n",
    "print(\"Girilen sayı x 3:\",a * 3)\n"
   ]
  },
  {
   "cell_type": "code",
   "execution_count": null,
   "metadata": {},
   "outputs": [],
   "source": []
  }
 ],
 "metadata": {
  "kernelspec": {
   "display_name": "Python 3",
   "language": "python",
   "name": "python3"
  },
  "language_info": {
   "codemirror_mode": {
    "name": "ipython",
    "version": 3
   },
   "file_extension": ".py",
   "mimetype": "text/x-python",
   "name": "python",
   "nbconvert_exporter": "python",
   "pygments_lexer": "ipython3",
   "version": "3.8.3"
  }
 },
 "nbformat": 4,
 "nbformat_minor": 4
}

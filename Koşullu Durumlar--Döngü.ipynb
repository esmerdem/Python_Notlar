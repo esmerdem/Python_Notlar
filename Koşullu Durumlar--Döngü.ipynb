{
 "cells": [
  {
   "cell_type": "code",
   "execution_count": 1,
   "metadata": {},
   "outputs": [
    {
     "name": "stdout",
     "output_type": "stream",
     "text": [
      "True\n",
      "False\n"
     ]
    }
   ],
   "source": [
    "#boolean değerler aslında Pythonda bir veri tipidir ve iki değere sahiplerdir:True ve False. \n",
    "\"\"\"\n",
    "Pythonda bir sayı değeri eğer 0’dan farklıysa True, 0 ise False olarak anlam kazanır.\n",
    "Bunu bool() fonksiyonuyla dönüştürme yaparak görebiliriz.\n",
    "\"\"\"\n",
    "print(bool(1))\n",
    "print(bool(0))"
   ]
  },
  {
   "cell_type": "code",
   "execution_count": 2,
   "metadata": {},
   "outputs": [
    {
     "name": "stdout",
     "output_type": "stream",
     "text": [
      "True\n",
      "False\n"
     ]
    }
   ],
   "source": [
    "print(1 < 2)\n",
    "print(1 > 2)"
   ]
  },
  {
   "cell_type": "code",
   "execution_count": 3,
   "metadata": {},
   "outputs": [
    {
     "name": "stdout",
     "output_type": "stream",
     "text": [
      "None\n"
     ]
    }
   ],
   "source": [
    "\"\"\"Ayrıca Pythonda eğer bir değişkenin değerini sonradan belirlemek isterseniz geçici olarak bu değişken\n",
    "None (atanmamış anlamında) değerine eşitleyebilirsiniz.\n",
    "\"\"\"\n",
    "a = None\n",
    "print(a)"
   ]
  },
  {
   "cell_type": "code",
   "execution_count": 4,
   "metadata": {},
   "outputs": [
    {
     "data": {
      "text/plain": [
       "'\\n\"Mehmet\" == \"Mehmet\"\\n\"Mehmet\" == \"Murat\"\\n\"Mehmet\" != \"Murat\"\\n\"Oğuz\" < \"Murat\" # Alfabetik olarak bakar. \\n2 < 3\\n54 >= 54\\n98 > 32\\n34 <= 45\\nBURDA OPERATÖRLERİ GÖRÜYORUZ\\n'"
      ]
     },
     "execution_count": 4,
     "metadata": {},
     "output_type": "execute_result"
    }
   ],
   "source": [
    "\"\"\"\n",
    "\"Mehmet\" == \"Mehmet\"\n",
    "\"Mehmet\" == \"Murat\"\n",
    "\"Mehmet\" != \"Murat\"\n",
    "\"Oğuz\" < \"Murat\" # Alfabetik olarak bakar. \n",
    "2 < 3\n",
    "54 >= 54\n",
    "98 > 32\n",
    "34 <= 45\n",
    "BURDA OPERATÖRLERİ GÖRÜYORUZ\n",
    "\"\"\""
   ]
  },
  {
   "cell_type": "code",
   "execution_count": 5,
   "metadata": {},
   "outputs": [
    {
     "name": "stdout",
     "output_type": "stream",
     "text": [
      "True\n",
      "False\n"
     ]
    }
   ],
   "source": [
    "\"\"\"\n",
    "and operatörü, içine verilen tüm değerler True ise True, en az bir tane False var ise False gösterir.\n",
    "\"\"\"\n",
    "print(\"Murat\" == \"Murat\" and 1 < 2)\n",
    "print(\"Ahmet\" == \"Mehmet\" and 1 < 2)"
   ]
  },
  {
   "cell_type": "code",
   "execution_count": 6,
   "metadata": {},
   "outputs": [
    {
     "name": "stdout",
     "output_type": "stream",
     "text": [
      "True\n"
     ]
    }
   ],
   "source": [
    "\"\"\"\n",
    "or operatörü, bütün işlemklerden en az 1'i True ise True çıkar.\n",
    "\n",
    "\"\"\"\n",
    "print(\"Ahmet\" == \"Mehmet\" or \"Osman\" == \"Osman\")"
   ]
  },
  {
   "cell_type": "code",
   "execution_count": 7,
   "metadata": {},
   "outputs": [
    {
     "name": "stdout",
     "output_type": "stream",
     "text": [
      "False\n"
     ]
    }
   ],
   "source": [
    "\"\"\"not operatörü aslında bir mantıksal bağlaç değildir. \n",
    "Bu operatör sadece bir mantıksal değeri veya karşılaştırma işlemininin tam tersi sonuca çevirir.\"\"\"\n",
    "print( not 1 < 2)"
   ]
  },
  {
   "cell_type": "code",
   "execution_count": 8,
   "metadata": {},
   "outputs": [
    {
     "name": "stdout",
     "output_type": "stream",
     "text": [
      "Okay\n"
     ]
    }
   ],
   "source": [
    "#if, koşul sağlanırsa anlamı taşır. Koşul sağlanırsa if bloğu çalılşır, sağlanmazsa çalışmaz.\n",
    "a = 2\n",
    "if (a == 2):\n",
    "    print(\"Okay\")"
   ]
  },
  {
   "cell_type": "code",
   "execution_count": 9,
   "metadata": {},
   "outputs": [
    {
     "name": "stdout",
     "output_type": "stream",
     "text": [
      "Yaş kaç:15\n",
      "Hoş gelmedin!\n"
     ]
    }
   ],
   "source": [
    "#else, if sağlanmadığı durumlarda çalışan bloklardır. if durumu false olunca else sağlanır.\n",
    "\n",
    "yaş_sorgulama = int(input(\"Yaş kaç:\"))\n",
    "if (yaş_sorgulama >= 18):\n",
    "    print(\"Hoş gelmişsiz!\")\n",
    "else:\n",
    "    print(\"Hoş gelmedin!\")"
   ]
  },
  {
   "cell_type": "code",
   "execution_count": 10,
   "metadata": {},
   "outputs": [
    {
     "name": "stdout",
     "output_type": "stream",
     "text": [
      "Notunuzu giriniz:50\n",
      "Dersten Kaldınız\n"
     ]
    }
   ],
   "source": [
    "#elif, fazladan koşul oluşturmak için kullanılır. birden fazla koşul gerektiren durumlarda elif kullanırız.\n",
    "note = float(input(\"Notunuzu giriniz:\"))\n",
    " \n",
    "if note >= 90:\n",
    "    print(\"AA\")\n",
    "elif note >= 85:\n",
    "    print(\"BA\")\n",
    "elif note >= 90:\n",
    "    print(\"BA\")\n",
    "elif note >= 80:\n",
    "    print(\"BB\")\n",
    "elif note >= 75:\n",
    "    print(\"CB\")\n",
    "elif note >= 70:\n",
    "    print(\"CC\")\n",
    "elif note >= 65:\n",
    "    print(\"DC\")\n",
    "elif note >= 60:\n",
    "    print(\"DD\")\n",
    "else:\n",
    "    print(\"Dersten Kaldınız\")"
   ]
  },
  {
   "cell_type": "code",
   "execution_count": 11,
   "metadata": {},
   "outputs": [
    {
     "name": "stdout",
     "output_type": "stream",
     "text": [
      "True\n",
      "True\n"
     ]
    }
   ],
   "source": [
    "#in operatörü bir elemanın liste,demet ya da stringlerde olup olmadığını kontrol eder\n",
    "print(\"a\" in \"merhaba\")\n",
    "print(4 in [1,2,3,4])"
   ]
  },
  {
   "cell_type": "code",
   "execution_count": 12,
   "metadata": {},
   "outputs": [
    {
     "name": "stdout",
     "output_type": "stream",
     "text": [
      "Eleman: 1\n",
      "Eleman: 2\n",
      "Eleman: 3\n",
      "Eleman: 4\n",
      "Eleman: 5\n"
     ]
    }
   ],
   "source": [
    "\"\"\"\n",
    "for Döngüsü , listelerin ,demetlerin, stringlerin ve hatta sözlüklerin üzerinde dolaşmamızı sağlayan bir döngü türüdür.\n",
    "\"\"\"\n",
    "a = [1,2,3,4,5]\n",
    "for x in a:\n",
    "    print(\"Eleman:\",x)\n"
   ]
  },
  {
   "cell_type": "code",
   "execution_count": 13,
   "metadata": {},
   "outputs": [
    {
     "name": "stdout",
     "output_type": "stream",
     "text": [
      "toplam: 21\n"
     ]
    }
   ],
   "source": [
    "#elemanları toplayalım\n",
    "a = [1,2,3,4,5,6]\n",
    "toplam = 0\n",
    "for i in a:\n",
    "    toplam +=i\n",
    "print(\"toplam:\",toplam)\n",
    "    "
   ]
  },
  {
   "cell_type": "code",
   "execution_count": 14,
   "metadata": {},
   "outputs": [
    {
     "name": "stdout",
     "output_type": "stream",
     "text": [
      "Çift eleman: 2\n",
      "Çift eleman: 4\n",
      "Çift eleman: 6\n"
     ]
    }
   ],
   "source": [
    "#çift elemanları bastırma\n",
    "a = [1,2,3,4,5,6]\n",
    "for i in a:\n",
    "    if i % 2 == 0:\n",
    "        print(\"Çift eleman:\",i)"
   ]
  },
  {
   "cell_type": "code",
   "execution_count": 15,
   "metadata": {},
   "outputs": [
    {
     "name": "stdout",
     "output_type": "stream",
     "text": [
      "1 2\n",
      "3 4\n",
      "5 6\n"
     ]
    }
   ],
   "source": [
    "#demet içindeki elemanı almak için pratik yöntem\n",
    "a = ((1,2),(3,4),(5,6))\n",
    "for (i,j) in a:\n",
    "    print(i,j)"
   ]
  },
  {
   "cell_type": "code",
   "execution_count": 16,
   "metadata": {},
   "outputs": [
    {
     "name": "stdout",
     "output_type": "stream",
     "text": [
      "bir\n",
      "iki\n",
      "üç\n"
     ]
    }
   ],
   "source": [
    "#sözlükte gezinmek\n",
    "a = {\"bir\":1, \"iki\":2,\"üç\":3}\n",
    "for i in a:\n",
    "    print(i)"
   ]
  },
  {
   "cell_type": "code",
   "execution_count": 17,
   "metadata": {},
   "outputs": [
    {
     "name": "stdout",
     "output_type": "stream",
     "text": [
      "1\n",
      "2\n",
      "3\n"
     ]
    }
   ],
   "source": [
    "a = {\"bir\":1, \"iki\":2,\"üç\":3}\n",
    "for i in a.values():\n",
    "    print(i)"
   ]
  },
  {
   "cell_type": "code",
   "execution_count": 18,
   "metadata": {},
   "outputs": [
    {
     "name": "stdout",
     "output_type": "stream",
     "text": [
      "bir 1\n",
      "iki 2\n",
      "üç 3\n"
     ]
    }
   ],
   "source": [
    "a = {\"bir\":1, \"iki\":2,\"üç\":3}\n",
    "for (i,j) in a.items():\n",
    "    print(i,j)"
   ]
  },
  {
   "cell_type": "code",
   "execution_count": 19,
   "metadata": {},
   "outputs": [
    {
     "name": "stdout",
     "output_type": "stream",
     "text": [
      "A'nın değeri: 0\n",
      "A'nın değeri: 1\n",
      "A'nın değeri: 2\n",
      "A'nın değeri: 3\n",
      "A'nın değeri: 4\n",
      "A'nın değeri: 5\n",
      "A'nın değeri: 6\n",
      "A'nın değeri: 7\n",
      "A'nın değeri: 8\n",
      "A'nın değeri: 9\n"
     ]
    }
   ],
   "source": [
    "\"\"\"\n",
    "while döngüleri belli bir koşul sağlandığı sürece bloğundaki işlemleri gerçekleştirmeye devam eder. \n",
    "while döngülerinin sona ermesi için koşul durumunun bir süre sonra False olması gereklidir. False olmazsa sonsuz döngü oluşur.\n",
    "\"\"\"\n",
    "a = 0\n",
    "while (a < 10):\n",
    "    print(\"A'nın değeri:\",a)\n",
    "    a += 1"
   ]
  },
  {
   "cell_type": "code",
   "execution_count": 20,
   "metadata": {},
   "outputs": [
    {
     "name": "stdout",
     "output_type": "stream",
     "text": [
      "eşmel\n",
      "eşmel\n",
      "eşmel\n",
      "eşmel\n",
      "eşmel\n",
      "eşmel\n",
      "eşmel\n",
      "eşmel\n",
      "eşmel\n",
      "eşmel\n",
      "eşmel\n",
      "eşmel\n",
      "eşmel\n",
      "eşmel\n",
      "eşmel\n",
      "eşmel\n",
      "eşmel\n",
      "eşmel\n",
      "eşmel\n",
      "eşmel\n",
      "eşmel\n",
      "eşmel\n",
      "eşmel\n",
      "eşmel\n",
      "eşmel\n",
      "eşmel\n",
      "eşmel\n",
      "eşmel\n",
      "eşmel\n",
      "eşmel\n",
      "eşmel\n",
      "eşmel\n",
      "eşmel\n",
      "eşmel\n",
      "eşmel\n",
      "eşmel\n",
      "eşmel\n",
      "eşmel\n",
      "eşmel\n",
      "eşmel\n"
     ]
    }
   ],
   "source": [
    "#ekrana 40 defa eşmel yazalım\n",
    "a = 0\n",
    "while (a < 40):\n",
    "    print(\"eşmel\")\n",
    "    a +=1"
   ]
  },
  {
   "cell_type": "code",
   "execution_count": 21,
   "metadata": {},
   "outputs": [
    {
     "name": "stdout",
     "output_type": "stream",
     "text": [
      "i: 0 eleman 1\n",
      "i: 1 eleman 2\n",
      "i: 2 eleman 3\n",
      "i: 3 eleman 4\n",
      "i: 4 eleman 5\n"
     ]
    }
   ],
   "source": [
    "#liste üstünde indeksle gezinmece\n",
    "a = [1,2,3,4,5]\n",
    "i = 0\n",
    "while (i < len(a)):\n",
    "    print(\"i:\",i,\"eleman\",a[i])\n",
    "    i += 1"
   ]
  },
  {
   "cell_type": "code",
   "execution_count": 22,
   "metadata": {},
   "outputs": [
    {
     "name": "stdout",
     "output_type": "stream",
     "text": [
      "0 1 2 3 4 5 6 7 8 9\n"
     ]
    }
   ],
   "source": [
    "#range fonksiyonu, başlangıç ve sonunu bizim seçtiğimiz sayıları oluşturur.\n",
    "print(*range(0,10))"
   ]
  },
  {
   "cell_type": "code",
   "execution_count": 23,
   "metadata": {},
   "outputs": [
    {
     "name": "stdout",
     "output_type": "stream",
     "text": [
      "[0, 1, 2, 3, 4, 5, 6, 7, 8, 9, 10]\n"
     ]
    }
   ],
   "source": [
    "#range fonksiyonuyla liste yapma\n",
    "liste = list(range(0,11))\n",
    "print(liste)"
   ]
  },
  {
   "cell_type": "code",
   "execution_count": 24,
   "metadata": {},
   "outputs": [
    {
     "name": "stdout",
     "output_type": "stream",
     "text": [
      "0 2 4 6 8\n",
      "20 19 18 17 16 15 14 13 12 11 10 9 8 7 6 5 4 3 2 1\n"
     ]
    }
   ],
   "source": [
    "print(*range(0,10,2))\n",
    "\n",
    "print(*range(20,0,-1)) # 20'den geri gelen sayıları oluşturur.\n"
   ]
  },
  {
   "cell_type": "code",
   "execution_count": 25,
   "metadata": {},
   "outputs": [
    {
     "name": "stdout",
     "output_type": "stream",
     "text": [
      "0\n",
      "1\n",
      "2\n",
      "3\n",
      "4\n",
      "5\n",
      "6\n",
      "7\n",
      "8\n",
      "9\n"
     ]
    }
   ],
   "source": [
    "#range fonksiyonunun üstünde for döngüsüyle gezinme\n",
    "for i in range(0,10):\n",
    "    print(i)"
   ]
  },
  {
   "cell_type": "code",
   "execution_count": 26,
   "metadata": {},
   "outputs": [
    {
     "name": "stdout",
     "output_type": "stream",
     "text": [
      "0\n",
      "1\n",
      "2\n",
      "3\n",
      "4\n",
      "5\n",
      "6\n",
      "7\n",
      "8\n",
      "9\n",
      "10\n"
     ]
    }
   ],
   "source": [
    "\"\"\"\n",
    "break... Döngü herhangi bir yerde ve herhangi bir zamanda break ifadesiyle karşılaştığı zaman\n",
    "çalışmasını bir anda durdurur. Böylelikle döngü hiçbir koşula bağlı kalmadan sonlanmış olur.\n",
    "break ifadesi sadece ve sadece içindeki bulunduğu döngüyü sonlandırır. Eğer iç içe döngüler bulunuyorsa ve en içteki \n",
    "döngüde break kullanılmışsa sadece içteki döngü sona erer. \n",
    "\"\"\"\n",
    "i = 0\n",
    "while i < 20:\n",
    "    print(i)\n",
    "    if i == 10:\n",
    "        break\n",
    "    i += 1\n"
   ]
  },
  {
   "cell_type": "code",
   "execution_count": 27,
   "metadata": {},
   "outputs": [
    {
     "name": "stdout",
     "output_type": "stream",
     "text": [
      "isim gir(çıkmak için q'ya bas)anan\n",
      "anan\n",
      "isim gir(çıkmak için q'ya bas)baban\n",
      "baban\n",
      "isim gir(çıkmak için q'ya bas)q\n"
     ]
    }
   ],
   "source": [
    "while True:\n",
    "    isim = input(\"isim gir(çıkmak için q'ya bas)\")\n",
    "    if isim == \"q\":\n",
    "        break\n",
    "    print(isim)"
   ]
  },
  {
   "cell_type": "code",
   "execution_count": 28,
   "metadata": {},
   "outputs": [
    {
     "name": "stdout",
     "output_type": "stream",
     "text": [
      "0\n",
      "1\n",
      "2\n",
      "Zaaaa\n",
      "4\n",
      "5\n",
      "6\n",
      "7\n",
      "8\n",
      "9\n"
     ]
    }
   ],
   "source": [
    "\"\"\"\n",
    "continue...\n",
    "Döngü herhangi bir yerde ve herhangi bir zamanda continue ifadesiyle karşılaştığı zaman geri kalan işlemlerini\n",
    "yapmadan direk bloğunun başına döner.\n",
    "\"\"\"\n",
    "i = 0\n",
    "while i < 10:\n",
    "    if i == 3:\n",
    "        i += 1\n",
    "        print(\"Zaaaa\")\n",
    "        continue\n",
    "    print(i)\n",
    "    i += 1\n"
   ]
  },
  {
   "cell_type": "code",
   "execution_count": 1,
   "metadata": {},
   "outputs": [
    {
     "name": "stdout",
     "output_type": "stream",
     "text": [
      "[1, 2, 3, 4, 5]\n"
     ]
    }
   ],
   "source": [
    "# list comprehension... lsite 1'den liste 2'yi oluştuma\n",
    "liste1 = [1,2,3,4,5]\n",
    "liste2 = []\n",
    "\n",
    "for i in liste1 :\n",
    "    liste2.append(i)\n",
    "\n",
    "print(liste2)\n"
   ]
  },
  {
   "cell_type": "code",
   "execution_count": 2,
   "metadata": {},
   "outputs": [
    {
     "name": "stdout",
     "output_type": "stream",
     "text": [
      "[1, 2, 3, 4, 5]\n"
     ]
    }
   ],
   "source": [
    "#list comprehension yapalım.\n",
    "\n",
    "liste3 = [1,2,3,4,5]\n",
    "liste4 = [i for i in liste3]\n",
    "print(liste4)"
   ]
  },
  {
   "cell_type": "code",
   "execution_count": 3,
   "metadata": {},
   "outputs": [
    {
     "name": "stdout",
     "output_type": "stream",
     "text": [
      "[2, 4, 6, 8, 10]\n"
     ]
    }
   ],
   "source": [
    "liste3 = [1,2,3,4,5]\n",
    "liste4 = [i * 2 for i in liste3]\n",
    "print(liste4)"
   ]
  },
  {
   "cell_type": "code",
   "execution_count": 10,
   "metadata": {},
   "outputs": [
    {
     "name": "stdout",
     "output_type": "stream",
     "text": [
      "[2, 12, 30]\n"
     ]
    }
   ],
   "source": [
    "liste = [(1,2),(3,4),(5,6)]\n",
    "liste1 = [i * j  for (i,j) in liste]\n",
    "print(liste1)"
   ]
  },
  {
   "cell_type": "code",
   "execution_count": 11,
   "metadata": {},
   "outputs": [
    {
     "name": "stdout",
     "output_type": "stream",
     "text": [
      "['PP', 'yy', 'tt', 'hh', 'oo', 'nn']\n"
     ]
    }
   ],
   "source": [
    "s = \"Python\"\n",
    "liste = [i * 2 for i in s]\n",
    "print(liste)"
   ]
  },
  {
   "cell_type": "code",
   "execution_count": 12,
   "metadata": {},
   "outputs": [
    {
     "name": "stdout",
     "output_type": "stream",
     "text": [
      "[1, 2, 3, 4, 5, 6, 7, 8, 9, 10, 11, 12]\n"
     ]
    }
   ],
   "source": [
    "liste = [[1,2,3],[4,5,6,7,8,],[9,10,11,12]]\n",
    "liste1 = [x for i in liste for x in i]\n",
    "print(liste1)"
   ]
  },
  {
   "cell_type": "code",
   "execution_count": 13,
   "metadata": {},
   "outputs": [
    {
     "name": "stdout",
     "output_type": "stream",
     "text": [
      "[1, 2, 3, 4, 5, 6, 7, 8, 9, 10, 11, 12]\n"
     ]
    }
   ],
   "source": [
    "#üsttekinin uzun hali\n",
    "liste = [[1,2,3],[4,5,6,7,8,],[9,10,11,12]]\n",
    "liste1 = []\n",
    "\n",
    "for i in liste:\n",
    "    for x in i:\n",
    "        liste1.append(x)\n",
    "print(liste1)"
   ]
  },
  {
   "cell_type": "code",
   "execution_count": null,
   "metadata": {},
   "outputs": [],
   "source": []
  }
 ],
 "metadata": {
  "kernelspec": {
   "display_name": "Python 3",
   "language": "python",
   "name": "python3"
  },
  "language_info": {
   "codemirror_mode": {
    "name": "ipython",
    "version": 3
   },
   "file_extension": ".py",
   "mimetype": "text/x-python",
   "name": "python",
   "nbconvert_exporter": "python",
   "pygments_lexer": "ipython3",
   "version": "3.8.3"
  }
 },
 "nbformat": 4,
 "nbformat_minor": 4
}
